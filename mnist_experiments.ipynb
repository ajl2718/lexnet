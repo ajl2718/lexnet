{
 "cells": [
  {
   "cell_type": "markdown",
   "id": "a5d84ec2",
   "metadata": {},
   "source": [
    "# MNIST experiments\n",
    "\n",
    "12 January 2022"
   ]
  },
  {
   "cell_type": "code",
   "execution_count": 4,
   "id": "d8d21728",
   "metadata": {},
   "outputs": [],
   "source": [
    "import pandas as pd\n",
    "import matplotlib.pyplot as plt\n",
    "import seaborn as sns\n",
    "\n",
    "from os import listdir\n",
    "\n",
    "sns.set()\n",
    "%matplotlib inline"
   ]
  },
  {
   "cell_type": "code",
   "execution_count": 5,
   "id": "452a3a6a",
   "metadata": {},
   "outputs": [],
   "source": [
    "source_folder = '/home/alex/Desktop/Data/MNIST'"
   ]
  },
  {
   "cell_type": "code",
   "execution_count": 6,
   "id": "b6e2908e",
   "metadata": {},
   "outputs": [],
   "source": [
    "# load up the CSV files for the MNIST\n",
    "df_train = pd.read_csv(f'{source_folder}/mnist_train.csv', header=None)\n",
    "df_test = pd.read_csv(f'{source_folder}/mnist_test.csv', header=None)\n",
    "\n",
    "# extract the values for training and test sets and convert to np.array\n",
    "X_train, y_train = df_train.values[:, 1:].T, df_train.values[:, 0]\n",
    "X_test, y_test = df_test.values[:, 1:].T, df_test.values[:, 0]"
   ]
  },
  {
   "cell_type": "code",
   "execution_count": 15,
   "id": "415217b1",
   "metadata": {},
   "outputs": [],
   "source": [
    "index = 12341\n",
    "\n",
    "img1 = X_train[:, index].reshape(28, 28)"
   ]
  },
  {
   "cell_type": "code",
   "execution_count": 16,
   "id": "71f99179",
   "metadata": {},
   "outputs": [
    {
     "data": {
      "image/png": "[encoded data removed]",
      "text/plain": [
       "<Figure size 432x432 with 1 Axes>"
      ]
     },
     "metadata": {
      "needs_background": "light"
     },
     "output_type": "display_data"
    }
   ],
   "source": [
    "plt.figure(figsize=(6, 6))\n",
    "plt.imshow(img1, cmap='Greys')\n",
    "plt.axis('off')\n",
    "plt.show()"
   ]
  },
  {
   "cell_type": "code",
   "execution_count": null,
   "id": "11ab0ff2",
   "metadata": {},
   "outputs": [],
   "source": []
  }
 ],
 "metadata": {
  "kernelspec": {
   "display_name": "Python 3 (ipykernel)",
   "language": "python",
   "name": "python3"
  },
  "language_info": {
   "codemirror_mode": {
    "name": "ipython",
    "version": 3
   },
   "file_extension": ".py",
   "mimetype": "text/x-python",
   "name": "python",
   "nbconvert_exporter": "python",
   "pygments_lexer": "ipython3",
   "version": "3.8.10"
  }
 },
 "nbformat": 4,
 "nbformat_minor": 5
}
